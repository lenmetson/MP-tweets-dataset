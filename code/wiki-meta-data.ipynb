{
 "cells": [
  {
   "cell_type": "markdown",
   "metadata": {},
   "source": [
    "# Pulling metadata about MPs from WikiData \n",
    "\n",
    "In this file, I will run through how to obtain data from WikiData's API. I am using a Jypyter notebook because I think I will need to use python, or a mix of python and R. There used to be an SPARQL complier package in R which we could have used to write the request (then possibly combined with `httr` to dynamically pull the WikiData) but I could not get it to work with the latest version of R. \n",
    "\n",
    "It is also possible to manually pull MPs' tweets, however, it would be better - and more reproducible - to have code which can do it programmatically. "
   ]
  },
  {
   "cell_type": "markdown",
   "metadata": {},
   "source": [
    "The first code I will try is from [this blog post](https://sparqlwrapper.readthedocs.io/en/latest/main.html). I am having problems installing python packages so need to fix that first."
   ]
  },
  {
   "cell_type": "code",
   "execution_count": null,
   "metadata": {},
   "outputs": [],
   "source": [
    "from SPARQLWrapper import SPARQLWrapper, JSON \n",
    "\n",
    "sparql = SPARQLWrapper(\n",
    "    \"https://query.wikidata.org/sparql\" # I think this is the wrong place to put the http endpoint\n",
    ")\n",
    "\n",
    "sparql.setReturnFormat(JSON)\n",
    "\n",
    "sparql.setQuery(\"\"\"\n",
    "    SELECT DISTINCT ?person ?personLabel ?seatLabel ?partyLabel ?countryLabel ?sexorgenderLabel ?dateofbirthLabel WHERE\n",
    "  {\n",
    "    ?person wdt:P31 wd:Q5 . ?person p:P39 ?ps .\n",
    "    ?ps ps:P39 ?term . ?term wdt:P279 wd:Q16707842 .\n",
    "    ?ps pq:P580 ?start . ?ps pq:P4100 ?party . ?ps pq:P768 ?seat .\n",
    "    FILTER NOT EXISTS { ?ps pq:P582 ?end } .\n",
    "    ?person wdt:P569 ?dateofbirth .\n",
    "    ?person wdt:P21 ?sexorgender .\n",
    "    ?seat wdt:P131+ ?country . ?country wdt:P31 wd:Q3336843 .\n",
    "    SERVICE wikibase:label { bd:serviceParam wikibase:language 'en'. }\n",
    "  }\n",
    "\"\"\"\n",
    ")\n",
    "\n",
    "try:\n",
    "    ret = sparql.queryAndConvert()\n",
    "\n",
    "    for r in ret[\"results\"][\"bindings\"]:\n",
    "        print(r)\n",
    "except Exception as e:\n",
    "    print(e)\n"
   ]
  }
 ],
 "metadata": {
  "language_info": {
   "name": "python"
  },
  "orig_nbformat": 4
 },
 "nbformat": 4,
 "nbformat_minor": 2
}
