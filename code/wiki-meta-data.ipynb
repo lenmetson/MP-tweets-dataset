{
 "cells": [
  {
   "cell_type": "markdown",
   "metadata": {},
   "source": [
    "# Pulling metadata about MPs from WikiData \n",
    "\n",
    "In this file, I will run through how to obtain data from WikiData's API. I am using a Jypyter notebook because I think I will need to use python, or a mix of python and R. There used to be an SPARQL complier package in R which we could have used to write the request (then possibly combined with `httr` to dynamically pull the WikiData) but I could not get it to work with the latest version of R. \n",
    "\n",
    "It is also possible to manually pull MPs' tweets, however, it would be better - and more reproducible - to have code which can do it programmatically. "
   ]
  },
  {
   "cell_type": "markdown",
   "metadata": {},
   "source": [
    "The first code I will try is from [this blog post](https://sparqlwrapper.readthedocs.io/en/latest/main.html). I am having problems installing python packages so need to fix that first."
   ]
  },
  {
   "cell_type": "code",
   "execution_count": 6,
   "metadata": {},
   "outputs": [
    {
     "ename": "ModuleNotFoundError",
     "evalue": "No module named 'pandas'",
     "output_type": "error",
     "traceback": [
      "\u001b[1;31m---------------------------------------------------------------------------\u001b[0m",
      "\u001b[1;31mModuleNotFoundError\u001b[0m                       Traceback (most recent call last)",
      "\u001b[1;32m~\\AppData\\Local\\Temp/ipykernel_30024/4080736814.py\u001b[0m in \u001b[0;36m<module>\u001b[1;34m\u001b[0m\n\u001b[1;32m----> 1\u001b[1;33m \u001b[1;32mimport\u001b[0m \u001b[0mpandas\u001b[0m \u001b[1;32mas\u001b[0m \u001b[0mpd\u001b[0m\u001b[1;33m\u001b[0m\u001b[1;33m\u001b[0m\u001b[0m\n\u001b[0m",
      "\u001b[1;31mModuleNotFoundError\u001b[0m: No module named 'pandas'"
     ]
    }
   ],
   "source": []
  },
  {
   "cell_type": "code",
   "execution_count": 1,
   "metadata": {},
   "outputs": [
    {
     "ename": "ModuleNotFoundError",
     "evalue": "No module named 'SPARQLWrapper'",
     "output_type": "error",
     "traceback": [
      "\u001b[1;31m---------------------------------------------------------------------------\u001b[0m",
      "\u001b[1;31mModuleNotFoundError\u001b[0m                       Traceback (most recent call last)",
      "\u001b[1;32m~\\AppData\\Local\\Temp/ipykernel_30024/143562592.py\u001b[0m in \u001b[0;36m<module>\u001b[1;34m\u001b[0m\n\u001b[1;32m----> 1\u001b[1;33m \u001b[1;32mfrom\u001b[0m \u001b[0mSPARQLWrapper\u001b[0m \u001b[1;32mimport\u001b[0m \u001b[0mSPARQLWrapper\u001b[0m\u001b[1;33m,\u001b[0m \u001b[0mJSON\u001b[0m\u001b[1;33m\u001b[0m\u001b[1;33m\u001b[0m\u001b[0m\n\u001b[0m\u001b[0;32m      2\u001b[0m \u001b[1;33m\u001b[0m\u001b[0m\n\u001b[0;32m      3\u001b[0m sparql = SPARQLWrapper(\n\u001b[0;32m      4\u001b[0m     \u001b[1;34m\"https://query.wikidata.org/sparql\"\u001b[0m \u001b[1;31m# I think this is the wrong place to put the http endpoint\u001b[0m\u001b[1;33m\u001b[0m\u001b[1;33m\u001b[0m\u001b[0m\n\u001b[0;32m      5\u001b[0m )\n",
      "\u001b[1;31mModuleNotFoundError\u001b[0m: No module named 'SPARQLWrapper'"
     ]
    }
   ],
   "source": [
    "from SPARQLWrapper import SPARQLWrapper, JSON \n",
    "\n",
    "sparql = SPARQLWrapper(\n",
    "    \"https://query.wikidata.org/sparql\" # I think this is the wrong place to put the http endpoint\n",
    ")\n",
    "\n",
    "sparql.setReturnFormat(JSON)\n",
    "\n",
    "sparql.setQuery(\"\"\"\n",
    "    SELECT DISTINCT ?person ?personLabel ?seatLabel ?partyLabel ?countryLabel ?sexorgenderLabel ?dateofbirthLabel WHERE\n",
    "  {\n",
    "    ?person wdt:P31 wd:Q5 . ?person p:P39 ?ps .\n",
    "    ?ps ps:P39 ?term . ?term wdt:P279 wd:Q16707842 .\n",
    "    ?ps pq:P580 ?start . ?ps pq:P4100 ?party . ?ps pq:P768 ?seat .\n",
    "    FILTER NOT EXISTS { ?ps pq:P582 ?end } .\n",
    "    ?person wdt:P569 ?dateofbirth .\n",
    "    ?person wdt:P21 ?sexorgender .\n",
    "    ?seat wdt:P131+ ?country . ?country wdt:P31 wd:Q3336843 .\n",
    "    SERVICE wikibase:label { bd:serviceParam wikibase:language 'en'. }\n",
    "  }\n",
    "\"\"\"\n",
    ")\n",
    "\n",
    "try:\n",
    "    ret = sparql.queryAndConvert()\n",
    "\n",
    "    for r in ret[\"results\"][\"bindings\"]:\n",
    "        print(r)\n",
    "except Exception as e:\n",
    "    print(e)\n"
   ]
  }
 ],
 "metadata": {
  "kernelspec": {
   "display_name": "Python 3.9.2 64-bit",
   "language": "python",
   "name": "python3"
  },
  "language_info": {
   "codemirror_mode": {
    "name": "ipython",
    "version": 3
   },
   "file_extension": ".py",
   "mimetype": "text/x-python",
   "name": "python",
   "nbconvert_exporter": "python",
   "pygments_lexer": "ipython3",
   "version": "3.9.2"
  },
  "orig_nbformat": 4,
  "vscode": {
   "interpreter": {
    "hash": "d1707cf29dd33c6977613a1b857b3a43f97bb3f9ff74e8c0c494860a80684d98"
   }
  }
 },
 "nbformat": 4,
 "nbformat_minor": 2
}
