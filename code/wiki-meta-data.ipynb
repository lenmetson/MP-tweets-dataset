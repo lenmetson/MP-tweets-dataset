{
 "cells": [
  {
   "cell_type": "markdown",
   "metadata": {},
   "source": [
    "# Pulling metadata about MPs from WikiData \n",
    "\n",
    "In this file, I will run through how to obtain data from WikiData's API. I am using a Jypyter notebook because I think I will need to use python, or a mix of python and R. There used to be an SPARQL complier package in R which we could have used to write the request (then possibly combined with `httr` to dynamically pull the WikiData) but I could not get it to work with the latest version of R. \n",
    "\n",
    "It is also possible to manually pull MPs' tweets, however, it would be better - and more reproducible - to have code which can do it programmatically. "
   ]
  }
 ],
 "metadata": {
  "language_info": {
   "name": "python"
  },
  "orig_nbformat": 4
 },
 "nbformat": 4,
 "nbformat_minor": 2
}
